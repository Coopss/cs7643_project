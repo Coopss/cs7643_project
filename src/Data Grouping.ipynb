{
 "cells": [
  {
   "cell_type": "code",
   "execution_count": 13,
   "id": "acute-supplier",
   "metadata": {},
   "outputs": [],
   "source": [
    "import json\n",
    "import pandas as pd\n",
    "import pickle\n",
    "from tqdm.notebook import tqdm"
   ]
  },
  {
   "cell_type": "code",
   "execution_count": 3,
   "id": "signed-evening",
   "metadata": {},
   "outputs": [
    {
     "data": {
      "text/plain": [
       "179262"
      ]
     },
     "execution_count": 3,
     "metadata": {},
     "output_type": "execute_result"
    }
   ],
   "source": [
    "data = []\n",
    "with open('submissions.json', 'r', encoding='utf-8') as f:\n",
    "    for line in f.readlines():\n",
    "        try:\n",
    "            j = json.loads(line)\n",
    "            \n",
    "            if j['num_comments'] > 10:\n",
    "                data.append(j)\n",
    "            \n",
    "        except:\n",
    "#             print(line)\n",
    "            continue\n",
    "len(data)"
   ]
  },
  {
   "cell_type": "code",
   "execution_count": 4,
   "id": "changing-bangladesh",
   "metadata": {},
   "outputs": [
    {
     "data": {
      "text/plain": [
       "8428558"
      ]
     },
     "execution_count": 4,
     "metadata": {},
     "output_type": "execute_result"
    }
   ],
   "source": [
    "comments = []\n",
    "with open('comments.json', 'r', encoding='utf-8') as f:\n",
    "    for line in f.readlines():\n",
    "        try:\n",
    "            comments.append(json.loads(line.strip()))\n",
    "        except:\n",
    "#             print(line)\n",
    "            continue\n",
    "len(comments)"
   ]
  },
  {
   "cell_type": "code",
   "execution_count": 5,
   "id": "spanish-calculation",
   "metadata": {},
   "outputs": [
    {
     "data": {
      "application/vnd.jupyter.widget-view+json": {
       "model_id": "242f7c96ace541248cb96fb41d69a7f8",
       "version_major": 2,
       "version_minor": 0
      },
      "text/plain": [
       "  0%|          | 0/8428558 [00:00<?, ?it/s]"
      ]
     },
     "metadata": {},
     "output_type": "display_data"
    },
    {
     "data": {
      "text/plain": [
       "220098"
      ]
     },
     "execution_count": 5,
     "metadata": {},
     "output_type": "execute_result"
    }
   ],
   "source": [
    "seen_ids = set()\n",
    "grouped_comments = {}\n",
    "for comment in tqdm(comments):\n",
    "    \n",
    "    try:\n",
    "        if comment['nest_level'] != 1:\n",
    "            continue\n",
    "    except:\n",
    "        continue\n",
    "    \n",
    "    try:\n",
    "        grouped_comments[comment['link_id']].append(comment)\n",
    "    except:\n",
    "        grouped_comments.update({comment['link_id'] : [ comment ]})\n",
    "\n",
    "len(grouped_comments)"
   ]
  },
  {
   "cell_type": "code",
   "execution_count": 6,
   "id": "incorporated-entrepreneur",
   "metadata": {},
   "outputs": [
    {
     "data": {
      "application/vnd.jupyter.widget-view+json": {
       "model_id": "7946b4630b494795b0da7bfe93a73b2a",
       "version_major": 2,
       "version_minor": 0
      },
      "text/plain": [
       "  0%|          | 0/179262 [00:00<?, ?it/s]"
      ]
     },
     "metadata": {},
     "output_type": "display_data"
    }
   ],
   "source": [
    "grouped_data = {}\n",
    "\n",
    "for post in tqdm(data):\n",
    "    for key in grouped_comments.keys():\n",
    "        if post['id'] in key:\n",
    "            grouped_data.update({post['id'] : [post, grouped_comments[key]]})\n",
    "            break"
   ]
  },
  {
   "cell_type": "code",
   "execution_count": 26,
   "id": "blessed-secretary",
   "metadata": {},
   "outputs": [
    {
     "name": "stdout",
     "output_type": "stream",
     "text": [
      "{'author': '[deleted]', 'author_flair_css_class': None, 'author_flair_text': None, 'created_utc': 1402208377, 'domain': 'self.CasualConversation', 'full_link': 'https://www.reddit.com/r/CasualConversation/comments/27lq60/how_is_your_day_today/', 'gilded': 0, 'id': '27lq60', 'is_self': True, 'media_embed': {}, 'num_comments': 22, 'over_18': False, 'permalink': '/r/CasualConversation/comments/27lq60/how_is_your_day_today/', 'retrieved_on': 1441321180, 'score': 9, 'secure_media_embed': {}, 'selftext': '', 'stickied': False, 'subreddit': 'CasualConversation', 'subreddit_id': 't5_323oy', 'thumbnail': 'default', 'title': 'How is your day today?', 'url': 'http://www.reddit.com/r/CasualConversation/comments/27lq60/how_is_your_day_today/'} 7\n"
     ]
    }
   ],
   "source": [
    "list(grouped_data.keys())[0]\n",
    "post, newcomments = grouped_data['27lq60']\n",
    "print(post, len(newcomments))"
   ]
  },
  {
   "cell_type": "code",
   "execution_count": 15,
   "id": "reliable-entrepreneur",
   "metadata": {},
   "outputs": [
    {
     "data": {
      "text/plain": [
       "106646"
      ]
     },
     "execution_count": 15,
     "metadata": {},
     "output_type": "execute_result"
    }
   ],
   "source": [
    "len(grouped_data.keys())"
   ]
  },
  {
   "cell_type": "code",
   "execution_count": 14,
   "id": "traditional-heritage",
   "metadata": {},
   "outputs": [],
   "source": [
    "pickle.dump(grouped_data, open('grouped_data.pickle', 'wb'))"
   ]
  },
  {
   "cell_type": "code",
   "execution_count": 40,
   "id": "upper-freeze",
   "metadata": {},
   "outputs": [],
   "source": [
    "import numpy as np\n",
    "\n",
    "counts = np.zeros((len(grouped_data.keys())))\n",
    "\n",
    "for i, (k,v) in enumerate(grouped_data.items()):\n",
    "    counts[i] = len(v[1])\n"
   ]
  },
  {
   "cell_type": "code",
   "execution_count": 41,
   "id": "union-tyler",
   "metadata": {},
   "outputs": [
    {
     "data": {
      "text/plain": [
       "1668268.0"
      ]
     },
     "execution_count": 41,
     "metadata": {},
     "output_type": "execute_result"
    }
   ],
   "source": [
    "counts.sum()"
   ]
  },
  {
   "cell_type": "code",
   "execution_count": 42,
   "id": "sweet-meaning",
   "metadata": {},
   "outputs": [
    {
     "data": {
      "text/plain": [
       "15.643043339647056"
      ]
     },
     "execution_count": 42,
     "metadata": {},
     "output_type": "execute_result"
    }
   ],
   "source": [
    "counts.mean()"
   ]
  },
  {
   "cell_type": "code",
   "execution_count": null,
   "id": "governmental-minneapolis",
   "metadata": {},
   "outputs": [],
   "source": []
  }
 ],
 "metadata": {
  "kernelspec": {
   "display_name": "Python 3",
   "language": "python",
   "name": "python3"
  },
  "language_info": {
   "codemirror_mode": {
    "name": "ipython",
    "version": 3
   },
   "file_extension": ".py",
   "mimetype": "text/x-python",
   "name": "python",
   "nbconvert_exporter": "python",
   "pygments_lexer": "ipython3",
   "version": "3.6.12"
  }
 },
 "nbformat": 4,
 "nbformat_minor": 5
}
