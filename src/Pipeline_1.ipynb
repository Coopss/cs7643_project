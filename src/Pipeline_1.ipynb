{
 "cells": [
  {
   "cell_type": "code",
   "execution_count": 1,
   "metadata": {
    "colab": {
     "base_uri": "https://localhost:8080/"
    },
    "executionInfo": {
     "elapsed": 28392,
     "status": "ok",
     "timestamp": 1619896504753,
     "user": {
      "displayName": "Ryan Cooper",
      "photoUrl": "",
      "userId": "03930546846624815383"
     },
     "user_tz": 240
    },
    "id": "UGDKFjT-WLZX",
    "outputId": "c4750664-546d-4d20-c6cd-e25706c86b18"
   },
   "outputs": [
    {
     "name": "stdout",
     "output_type": "stream",
     "text": [
      "--2021-05-02 15:22:19--  https://www.dropbox.com/s/xq4vosn9xyn1dy1/grouped_data.pickle?dl=0\n",
      "Resolving www.dropbox.com (www.dropbox.com)... 162.125.8.18\n",
      "Connecting to www.dropbox.com (www.dropbox.com)|162.125.8.18|:443... connected.\n",
      "HTTP request sent, awaiting response... 301 Moved Permanently\n",
      "Location: /s/raw/xq4vosn9xyn1dy1/grouped_data.pickle [following]\n",
      "--2021-05-02 15:22:19--  https://www.dropbox.com/s/raw/xq4vosn9xyn1dy1/grouped_data.pickle\n",
      "Reusing existing connection to www.dropbox.com:443.\n",
      "HTTP request sent, awaiting response... 302 Found\n",
      "Location: https://uc6115e3d45e79c1eba5ac412473.dl.dropboxusercontent.com/cd/0/inline/BNvtifPy3AhA-ZEdLR8F7v1iCA_dFZWTRK9xqAdbTr8XVs8GKuOnjADv3h5if4Q5fKyLglRZWPWgbHDSp1_1PrZ2eXhhVCy_5_hhNwthYRKUyDKrVEuOtCoiOTLEOfmAEvnEaStKqHFLMPqbiRLigI_c/file# [following]\n",
      "--2021-05-02 15:22:19--  https://uc6115e3d45e79c1eba5ac412473.dl.dropboxusercontent.com/cd/0/inline/BNvtifPy3AhA-ZEdLR8F7v1iCA_dFZWTRK9xqAdbTr8XVs8GKuOnjADv3h5if4Q5fKyLglRZWPWgbHDSp1_1PrZ2eXhhVCy_5_hhNwthYRKUyDKrVEuOtCoiOTLEOfmAEvnEaStKqHFLMPqbiRLigI_c/file\n",
      "Resolving uc6115e3d45e79c1eba5ac412473.dl.dropboxusercontent.com (uc6115e3d45e79c1eba5ac412473.dl.dropboxusercontent.com)... 162.125.8.15\n",
      "Connecting to uc6115e3d45e79c1eba5ac412473.dl.dropboxusercontent.com (uc6115e3d45e79c1eba5ac412473.dl.dropboxusercontent.com)|162.125.8.15|:443... connected.\n",
      "HTTP request sent, awaiting response... 200 OK\n",
      "Length: 1740570798 (1.6G) [text/plain]\n",
      "Saving to: ‘grouped_data.pickle’\n",
      "\n",
      "grouped_data.pickle 100%[===================>]   1.62G  26.1MB/s    in 64s     \n",
      "\n",
      "2021-05-02 15:23:24 (25.9 MB/s) - ‘grouped_data.pickle’ saved [1740570798/1740570798]\n",
      "\n"
     ]
    }
   ],
   "source": [
    "# change this comment so we know when we uploaded the data last\n",
    "# !wget https://www.dropbox.com/s/xq4vosn9xyn1dy1/grouped_data.pickle?dl=0 -O grouped_data.pickle"
   ]
  },
  {
   "cell_type": "code",
   "execution_count": 198,
   "metadata": {},
   "outputs": [
    {
     "name": "stdout",
     "output_type": "stream",
     "text": [
      "--2021-05-03 16:44:06--  https://www.dropbox.com/sh/hxlnbb077rghqis/AACUvbPMzaUK-SVal3raSuowa?dl=0\n",
      "Resolving www.dropbox.com (www.dropbox.com)... 162.125.8.18\n",
      "Connecting to www.dropbox.com (www.dropbox.com)|162.125.8.18|:443... connected.\n",
      "HTTP request sent, awaiting response... 301 Moved Permanently\n",
      "Location: /sh/raw/hxlnbb077rghqis/AACUvbPMzaUK-SVal3raSuowa [following]\n",
      "--2021-05-03 16:44:07--  https://www.dropbox.com/sh/raw/hxlnbb077rghqis/AACUvbPMzaUK-SVal3raSuowa\n",
      "Reusing existing connection to www.dropbox.com:443.\n",
      "HTTP request sent, awaiting response... 302 Found\n",
      "Location: https://uc7a1efd4f40a09f24fdd0390bc9.dl.dropboxusercontent.com/zip_download_get/AxPF98p9J4ekUif9iVxM4ytEhHTeFfnDXMouBJtcKchF_RhJEM2TGaOCSoeOCTguopu9svmtpR_qGbR9q9hRsHZvUzNVgC_1VuOmuZA9dV_pgA [following]\n",
      "--2021-05-03 16:44:07--  https://uc7a1efd4f40a09f24fdd0390bc9.dl.dropboxusercontent.com/zip_download_get/AxPF98p9J4ekUif9iVxM4ytEhHTeFfnDXMouBJtcKchF_RhJEM2TGaOCSoeOCTguopu9svmtpR_qGbR9q9hRsHZvUzNVgC_1VuOmuZA9dV_pgA\n",
      "Resolving uc7a1efd4f40a09f24fdd0390bc9.dl.dropboxusercontent.com (uc7a1efd4f40a09f24fdd0390bc9.dl.dropboxusercontent.com)... 162.125.8.15\n",
      "Connecting to uc7a1efd4f40a09f24fdd0390bc9.dl.dropboxusercontent.com (uc7a1efd4f40a09f24fdd0390bc9.dl.dropboxusercontent.com)|162.125.8.15|:443... connected.\n",
      "HTTP request sent, awaiting response... 200 OK\n",
      "Length: 510411935 (487M) [application/zip]\n",
      "Saving to: ‘gpt_model_partially_trained.zip’\n",
      "\n",
      "gpt_model_partially 100%[===================>] 486.77M  25.2MB/s    in 19s     \n",
      "\n",
      "2021-05-03 16:44:27 (25.2 MB/s) - ‘gpt_model_partially_trained.zip’ saved [510411935/510411935]\n",
      "\n",
      "Archive:  gpt_model_partially_trained.zip\n",
      "warning:  stripped absolute path spec from /\n",
      "mapname:  conversion of  failed\n",
      " extracting: gpt_model_partially_trained/config.json  \n",
      " extracting: gpt_model_partially_trained/training_args.bin  \n",
      " extracting: gpt_model_partially_trained/pytorch_model.bin  \n"
     ]
    }
   ],
   "source": [
    "# download the partially trained gpt model (20% checkpoint)\n",
    "!wget https://www.dropbox.com/sh/hxlnbb077rghqis/AACUvbPMzaUK-SVal3raSuowa?dl=0 -O gpt_model_partially_trained.zip\n",
    "!unzip -o gpt_model_partially_trained.zip -d gpt_model_partially_trained"
   ]
  },
  {
   "cell_type": "code",
   "execution_count": 63,
   "metadata": {
    "colab": {
     "base_uri": "https://localhost:8080/"
    },
    "executionInfo": {
     "elapsed": 65060,
     "status": "ok",
     "timestamp": 1619896541429,
     "user": {
      "displayName": "Ryan Cooper",
      "photoUrl": "",
      "userId": "03930546846624815383"
     },
     "user_tz": 240
    },
    "id": "j0tTrN9gWYfC",
    "outputId": "b6e70fef-68f4-45b9-8670-aab4f82c4f6c"
   },
   "outputs": [
    {
     "name": "stdout",
     "output_type": "stream",
     "text": [
      "--2021-05-03 13:08:54--  https://www.dropbox.com/sh/quejv8g67twlnbp/AACt1PCruexhmOuDK_lGgsiba?dl=0\n",
      "Resolving www.dropbox.com (www.dropbox.com)... 162.125.8.18\n",
      "Connecting to www.dropbox.com (www.dropbox.com)|162.125.8.18|:443... connected.\n",
      "HTTP request sent, awaiting response... 301 Moved Permanently\n",
      "Location: /sh/raw/quejv8g67twlnbp/AACt1PCruexhmOuDK_lGgsiba [following]\n",
      "--2021-05-03 13:08:54--  https://www.dropbox.com/sh/raw/quejv8g67twlnbp/AACt1PCruexhmOuDK_lGgsiba\n",
      "Reusing existing connection to www.dropbox.com:443.\n",
      "HTTP request sent, awaiting response... 302 Found\n",
      "Location: https://uca8964e4fca4da373a4a872f338.dl.dropboxusercontent.com/zip_download_get/AxNcPqhJ3ep50OrvwxWG3WQmUXdvIM3JZXomaP3fqTFxsz8QB59Spud-6uzplBdwssEfwYIpy1mYm3oA9PNK9qnSCpCbA6NcI_Ttjd51A9wsWQ [following]\n",
      "--2021-05-03 13:08:55--  https://uca8964e4fca4da373a4a872f338.dl.dropboxusercontent.com/zip_download_get/AxNcPqhJ3ep50OrvwxWG3WQmUXdvIM3JZXomaP3fqTFxsz8QB59Spud-6uzplBdwssEfwYIpy1mYm3oA9PNK9qnSCpCbA6NcI_Ttjd51A9wsWQ\n",
      "Resolving uca8964e4fca4da373a4a872f338.dl.dropboxusercontent.com (uca8964e4fca4da373a4a872f338.dl.dropboxusercontent.com)... 162.125.8.15\n",
      "Connecting to uca8964e4fca4da373a4a872f338.dl.dropboxusercontent.com (uca8964e4fca4da373a4a872f338.dl.dropboxusercontent.com)|162.125.8.15|:443... connected.\n",
      "HTTP request sent, awaiting response... 200 OK\n",
      "Length: 510411974 (487M) [application/zip]\n",
      "Saving to: ‘gpt_model.zip’\n",
      "\n",
      "gpt_model.zip       100%[===================>] 486.77M  26.7MB/s    in 20s     \n",
      "\n",
      "2021-05-03 13:09:16 (24.3 MB/s) - ‘gpt_model.zip’ saved [510411974/510411974]\n",
      "\n",
      "Archive:  gpt_model.zip\n",
      "warning:  stripped absolute path spec from /\n",
      "mapname:  conversion of  failed\n",
      " extracting: gpt_model/config.json   \n",
      " extracting: gpt_model/pytorch_model.bin  \n",
      " extracting: gpt_model/training_args.bin  \n"
     ]
    }
   ],
   "source": [
    "# download the finished gpt model\n",
    "!wget https://www.dropbox.com/sh/quejv8g67twlnbp/AACt1PCruexhmOuDK_lGgsiba?dl=0 -O gpt_model.zip\n",
    "!unzip -o gpt_model.zip -d gpt_model"
   ]
  },
  {
   "cell_type": "code",
   "execution_count": 66,
   "metadata": {
    "colab": {
     "base_uri": "https://localhost:8080/"
    },
    "executionInfo": {
     "elapsed": 77059,
     "status": "ok",
     "timestamp": 1619896553432,
     "user": {
      "displayName": "Ryan Cooper",
      "photoUrl": "",
      "userId": "03930546846624815383"
     },
     "user_tz": 240
    },
    "id": "qcY0WoEjWkgI",
    "outputId": "4405de07-2784-4e8d-ca19-d3bd6bdbb46b"
   },
   "outputs": [
    {
     "name": "stdout",
     "output_type": "stream",
     "text": [
      "--2021-05-03 13:11:20--  https://www.dropbox.com/sh/3yzyslhzxjm0zvo/AABhPDg-0dQCT2mSAg5JskXqa?dl=0\n",
      "Resolving www.dropbox.com (www.dropbox.com)... 162.125.8.18\n",
      "Connecting to www.dropbox.com (www.dropbox.com)|162.125.8.18|:443... connected.\n",
      "HTTP request sent, awaiting response... 301 Moved Permanently\n",
      "Location: /sh/raw/3yzyslhzxjm0zvo/AABhPDg-0dQCT2mSAg5JskXqa [following]\n",
      "--2021-05-03 13:11:20--  https://www.dropbox.com/sh/raw/3yzyslhzxjm0zvo/AABhPDg-0dQCT2mSAg5JskXqa\n",
      "Reusing existing connection to www.dropbox.com:443.\n",
      "HTTP request sent, awaiting response... 302 Found\n",
      "Location: https://uc416225f895e34eda9b3161e3cb.dl.dropboxusercontent.com/zip_download_get/AxNs05c1TE5jfKfntGZmscJMc_hzcAcHVSxyJpiyLITZreLySWcwcqzQ0gnATdj5N6daaDUBu5iwbZGCTaZMCJFc0V91MHd0h034N0keWE6ZDQ [following]\n",
      "--2021-05-03 13:11:21--  https://uc416225f895e34eda9b3161e3cb.dl.dropboxusercontent.com/zip_download_get/AxNs05c1TE5jfKfntGZmscJMc_hzcAcHVSxyJpiyLITZreLySWcwcqzQ0gnATdj5N6daaDUBu5iwbZGCTaZMCJFc0V91MHd0h034N0keWE6ZDQ\n",
      "Resolving uc416225f895e34eda9b3161e3cb.dl.dropboxusercontent.com (uc416225f895e34eda9b3161e3cb.dl.dropboxusercontent.com)... 162.125.8.15\n",
      "Connecting to uc416225f895e34eda9b3161e3cb.dl.dropboxusercontent.com (uc416225f895e34eda9b3161e3cb.dl.dropboxusercontent.com)|162.125.8.15|:443... connected.\n",
      "HTTP request sent, awaiting response... 200 OK\n",
      "Length: 433340260 (413M) [application/zip]\n",
      "Saving to: ‘upvote_model_finished.zip’\n",
      "\n",
      "upvote_model_finish 100%[===================>] 413.26M  27.4MB/s    in 16s     \n",
      "\n",
      "2021-05-03 13:11:38 (26.1 MB/s) - ‘upvote_model_finished.zip’ saved [433340260/433340260]\n",
      "\n",
      "Archive:  upvote_model_finished.zip\n",
      "warning:  stripped absolute path spec from /\n",
      "mapname:  conversion of  failed\n",
      " extracting: upvote_model_finished/config.json  \n",
      " extracting: upvote_model_finished/training_args.bin  \n",
      " extracting: upvote_model_finished/pytorch_model.bin  \n"
     ]
    }
   ],
   "source": [
    "# download the upvote predictor model\n",
    "!wget https://www.dropbox.com/sh/3yzyslhzxjm0zvo/AABhPDg-0dQCT2mSAg5JskXqa?dl=0 -O upvote_model_finished.zip\n",
    "!unzip -o upvote_model_finished.zip -d upvote_model_finished"
   ]
  },
  {
   "cell_type": "code",
   "execution_count": 73,
   "metadata": {},
   "outputs": [
    {
     "name": "stdout",
     "output_type": "stream",
     "text": [
      "--2021-05-03 13:15:09--  https://www.dropbox.com/sh/6jcz8q6yv7pxvrb/AACoZAVEJPnaN4J-biYLPVxia?dl=0\n",
      "Resolving www.dropbox.com (www.dropbox.com)... 162.125.8.18\n",
      "Connecting to www.dropbox.com (www.dropbox.com)|162.125.8.18|:443... connected.\n",
      "HTTP request sent, awaiting response... 301 Moved Permanently\n",
      "Location: /sh/raw/6jcz8q6yv7pxvrb/AACoZAVEJPnaN4J-biYLPVxia [following]\n",
      "--2021-05-03 13:15:10--  https://www.dropbox.com/sh/raw/6jcz8q6yv7pxvrb/AACoZAVEJPnaN4J-biYLPVxia\n",
      "Reusing existing connection to www.dropbox.com:443.\n",
      "HTTP request sent, awaiting response... 302 Found\n",
      "Location: https://uc25661347fdb323600908831661.dl.dropboxusercontent.com/zip_download_get/AxPnthNofN_uofDyn4XX-elW3pY87pq8M4Wl-_JI5lZXxHRucliRna8NihdiPEO1vfSDe53LSymUUOs83wBj6swz5DUXKgulKlBlUZi8rEFlWw [following]\n",
      "--2021-05-03 13:15:11--  https://uc25661347fdb323600908831661.dl.dropboxusercontent.com/zip_download_get/AxPnthNofN_uofDyn4XX-elW3pY87pq8M4Wl-_JI5lZXxHRucliRna8NihdiPEO1vfSDe53LSymUUOs83wBj6swz5DUXKgulKlBlUZi8rEFlWw\n",
      "Resolving uc25661347fdb323600908831661.dl.dropboxusercontent.com (uc25661347fdb323600908831661.dl.dropboxusercontent.com)... 162.125.8.15\n",
      "Connecting to uc25661347fdb323600908831661.dl.dropboxusercontent.com (uc25661347fdb323600908831661.dl.dropboxusercontent.com)|162.125.8.15|:443... connected.\n",
      "HTTP request sent, awaiting response... 200 OK\n",
      "Length: 433340232 (413M) [application/zip]\n",
      "Saving to: ‘realism_model_finished.zip’\n",
      "\n",
      "realism_model_finis 100%[===================>] 413.26M  28.1MB/s    in 16s     \n",
      "\n",
      "2021-05-03 13:15:27 (26.2 MB/s) - ‘realism_model_finished.zip’ saved [433340232/433340232]\n",
      "\n",
      "Archive:  realism_model_finished.zip\n",
      "warning:  stripped absolute path spec from /\n",
      "mapname:  conversion of  failed\n",
      " extracting: realism_model_finished/config.json  \n",
      " extracting: realism_model_finished/pytorch_model.bin  \n",
      " extracting: realism_model_finished/training_args.bin  \n"
     ]
    }
   ],
   "source": [
    "# download the finished realism detector model\n",
    "!wget https://www.dropbox.com/sh/6jcz8q6yv7pxvrb/AACoZAVEJPnaN4J-biYLPVxia?dl=0 -O realism_model_finished.zip\n",
    "!unzip -o realism_model_finished.zip -d realism_model_finished"
   ]
  },
  {
   "cell_type": "code",
   "execution_count": null,
   "metadata": {},
   "outputs": [],
   "source": [
    "# # download the realism detector model\n",
    "# !wget https://drive.google.com/drive/folders/1adhWS2tfJQF8PHM6_ZkEvwOGEPVTrC4M?usp=sharing -O realism_model_finished.zip\n",
    "# !unzip -o realism_model_finished.zip -d realism_model_finished"
   ]
  },
  {
   "cell_type": "code",
   "execution_count": 177,
   "metadata": {
    "colab": {
     "base_uri": "https://localhost:8080/"
    },
    "executionInfo": {
     "elapsed": 3712,
     "status": "ok",
     "timestamp": 1619897258863,
     "user": {
      "displayName": "Ryan Cooper",
      "photoUrl": "",
      "userId": "03930546846624815383"
     },
     "user_tz": 240
    },
    "id": "JZNiRgiGWpe2",
    "outputId": "7c893508-1be1-4c69-c72f-8ceda2190f64"
   },
   "outputs": [
    {
     "name": "stdout",
     "output_type": "stream",
     "text": [
      "Requirement already satisfied: transformers in /Users/jonathanleo/miniconda3/envs/cp_CS7643/lib/python3.8/site-packages/transformers-4.4.2-py3.8.egg (4.4.2)\n",
      "Requirement already satisfied: filelock in /Users/jonathanleo/miniconda3/envs/cp_CS7643/lib/python3.8/site-packages (from transformers) (3.0.12)\n",
      "Requirement already satisfied: numpy>=1.17 in /Users/jonathanleo/miniconda3/envs/cp_CS7643/lib/python3.8/site-packages (from transformers) (1.20.2)\n",
      "Requirement already satisfied: packaging in /Users/jonathanleo/miniconda3/envs/cp_CS7643/lib/python3.8/site-packages (from transformers) (20.9)\n",
      "Requirement already satisfied: regex!=2019.12.17 in /Users/jonathanleo/miniconda3/envs/cp_CS7643/lib/python3.8/site-packages (from transformers) (2021.4.4)\n",
      "Requirement already satisfied: requests in /Users/jonathanleo/miniconda3/envs/cp_CS7643/lib/python3.8/site-packages (from transformers) (2.25.1)\n",
      "Requirement already satisfied: sacremoses in /Users/jonathanleo/miniconda3/envs/cp_CS7643/lib/python3.8/site-packages (from transformers) (0.0.45)\n",
      "Requirement already satisfied: tokenizers<0.11,>=0.10.1 in /Users/jonathanleo/miniconda3/envs/cp_CS7643/lib/python3.8/site-packages (from transformers) (0.10.2)\n",
      "Requirement already satisfied: tqdm>=4.27 in /Users/jonathanleo/miniconda3/envs/cp_CS7643/lib/python3.8/site-packages (from transformers) (4.60.0)\n",
      "Requirement already satisfied: pyparsing>=2.0.2 in /Users/jonathanleo/miniconda3/envs/cp_CS7643/lib/python3.8/site-packages (from packaging->transformers) (2.4.7)\n",
      "Requirement already satisfied: urllib3<1.27,>=1.21.1 in /Users/jonathanleo/miniconda3/envs/cp_CS7643/lib/python3.8/site-packages (from requests->transformers) (1.26.4)\n",
      "Requirement already satisfied: certifi>=2017.4.17 in /Users/jonathanleo/miniconda3/envs/cp_CS7643/lib/python3.8/site-packages (from requests->transformers) (2020.12.5)\n",
      "Requirement already satisfied: idna<3,>=2.5 in /Users/jonathanleo/miniconda3/envs/cp_CS7643/lib/python3.8/site-packages (from requests->transformers) (2.10)\n",
      "Requirement already satisfied: chardet<5,>=3.0.2 in /Users/jonathanleo/miniconda3/envs/cp_CS7643/lib/python3.8/site-packages (from requests->transformers) (4.0.0)\n",
      "Requirement already satisfied: joblib in /Users/jonathanleo/miniconda3/envs/cp_CS7643/lib/python3.8/site-packages (from sacremoses->transformers) (1.0.1)\n",
      "Requirement already satisfied: click in /Users/jonathanleo/miniconda3/envs/cp_CS7643/lib/python3.8/site-packages (from sacremoses->transformers) (7.1.2)\n",
      "Requirement already satisfied: six in /Users/jonathanleo/miniconda3/envs/cp_CS7643/lib/python3.8/site-packages (from sacremoses->transformers) (1.15.0)\n"
     ]
    }
   ],
   "source": [
    "!pip install transformers\n",
    "import pickle\n",
    "import pandas as pd\n",
    "import random\n",
    "import torch\n",
    "import warnings\n",
    "warnings.filterwarnings(\"ignore\")\n",
    "\n",
    "from sklearn.model_selection import train_test_split\n",
    "from transformers import AutoTokenizer\n",
    "from transformers import TextDataset, DataCollatorForLanguageModeling\n",
    "from transformers import Trainer, TrainingArguments, AutoModelWithLMHead\n",
    "from transformers import BertForSequenceClassification, BertTokenizerFast, Trainer, TrainingArguments\n",
    "from transformers import pipeline\n"
   ]
  },
  {
   "cell_type": "code",
   "execution_count": 114,
   "metadata": {},
   "outputs": [],
   "source": [
    "realism_model = BertForSequenceClassification.from_pretrained('realism_model_finished', num_labels=2)\n",
    "realism_model_tokenizer = BertTokenizerFast.from_pretrained('distilbert-base-cased', use_cache=True)"
   ]
  },
  {
   "cell_type": "code",
   "execution_count": 115,
   "metadata": {},
   "outputs": [],
   "source": [
    "def tokenize_responses(responses, tokenizer):\n",
    "    encodings = tokenizer(text=responses, truncation=True, padding=True)\n",
    "    items = {key: torch.tensor(val) for key, val in encodings.items()}\n",
    "    return items"
   ]
  },
  {
   "cell_type": "code",
   "execution_count": 116,
   "metadata": {},
   "outputs": [
    {
     "name": "stderr",
     "output_type": "stream",
     "text": [
      "Asking to truncate to max_length but no maximum length is provided and the model has no predefined maximum length. Default to no truncation.\n"
     ]
    }
   ],
   "source": [
    "a = [\"I just got back into Scrubs. What a great show that is/was.\\n\\n^^^and ^^^Adventure ^^^Time ^^^amirite?\"]\n",
    "\n",
    "tok_res = tokenize_responses(responses=a, tokenizer=realism_model_tokenizer)"
   ]
  },
  {
   "cell_type": "code",
   "execution_count": 117,
   "metadata": {},
   "outputs": [
    {
     "data": {
      "text/plain": [
       "tensor([[[-3.9403,  3.3141]]], grad_fn=<UnsqueezeBackward0>)"
      ]
     },
     "execution_count": 117,
     "metadata": {},
     "output_type": "execute_result"
    }
   ],
   "source": [
    "outs = realism_model.forward(input_ids=tok_res['input_ids'], attention_mask=tok_res['attention_mask'], token_type_ids=tok_res['token_type_ids'])\n",
    "logits = outs.logits.unsqueeze(dim=1)\n",
    "logits\n"
   ]
  },
  {
   "cell_type": "code",
   "execution_count": 118,
   "metadata": {},
   "outputs": [
    {
     "name": "stdout",
     "output_type": "stream",
     "text": [
      "tensor([[[7.0654e-04, 9.9929e-01]]], grad_fn=<SoftmaxBackward>)\n"
     ]
    }
   ],
   "source": [
    "print(torch.softmax(logits,dim=-1))"
   ]
  },
  {
   "cell_type": "code",
   "execution_count": 176,
   "metadata": {},
   "outputs": [
    {
     "ename": "NameError",
     "evalue": "name 'out' is not defined",
     "output_type": "error",
     "traceback": [
      "\u001b[0;31m---------------------------------------------------------------------------\u001b[0m",
      "\u001b[0;31mNameError\u001b[0m                                 Traceback (most recent call last)",
      "\u001b[0;32m<ipython-input-176-9bc27bdc8279>\u001b[0m in \u001b[0;36m<module>\u001b[0;34m\u001b[0m\n\u001b[0;32m----> 1\u001b[0;31m \u001b[0mout\u001b[0m\u001b[0;34m\u001b[0m\u001b[0;34m\u001b[0m\u001b[0m\n\u001b[0m",
      "\u001b[0;31mNameError\u001b[0m: name 'out' is not defined"
     ]
    }
   ],
   "source": [
    "out"
   ]
  },
  {
   "cell_type": "code",
   "execution_count": 94,
   "metadata": {
    "colab": {
     "base_uri": "https://localhost:8080/"
    },
    "executionInfo": {
     "elapsed": 11131,
     "status": "ok",
     "timestamp": 1619899445881,
     "user": {
      "displayName": "Ryan Cooper",
      "photoUrl": "",
      "userId": "03930546846624815383"
     },
     "user_tz": 240
    },
    "id": "rSd3IMG_Wsb1",
    "outputId": "ed232386-5a66-460f-f9d4-9fb4d7eef97d"
   },
   "outputs": [
    {
     "name": "stderr",
     "output_type": "stream",
     "text": [
      "Setting `pad_token_id` to `eos_token_id`:50256 for open-end generation.\n"
     ]
    },
    {
     "data": {
      "text/plain": [
       "[{'generated_text': \"How was your day? <BOS> I just got home, I hope you get some nice weather\\n\\nI also feel like sleeping because I want to sleep, but what I'm trying to say is that I don't like waking up in\"}]"
      ]
     },
     "execution_count": 94,
     "metadata": {},
     "output_type": "execute_result"
    }
   ],
   "source": [
    "# pipeline testing\n",
    "\n",
    "# chef = pipeline('text-generation', model='./model', tokenizer='gpt2', config={'max_length':1500})\n",
    "\n",
    "# chef(\"How was your day? <BOS>\")\n",
    "\n",
    "# questions = []\n",
    "# responses = []\n",
    "# for _ in range(2):\n",
    "#     text = chef(\"How was your day? <BOS>\")[0]['generated_text']\n",
    "#     questions.append(text.split(\"<BOS>\",1)[0] )\n",
    "#     responses.append(text.split(\"<BOS>\",1)[1])\n",
    "    \n",
    "# model = BertForSequenceClassification.from_pretrained('upvote_model', num_labels=4)\n",
    "\n",
    "# tokenizer = BertTokenizerFast.from_pretrained('bert-base-cased', use_cache=True)\n",
    "\n",
    "# encodings = tokenizer(text=questions, text_pair=responses, truncation=True, padding=True)\n",
    "# items = {key: torch.tensor(val) for key, val in encodings.items()}\n",
    "\n",
    "# outs = model.forward(input_ids=items['input_ids'], attention_mask=items['attention_mask'], token_type_ids=items['token_type_ids'])\n",
    "# print(torch.argmax(torch.argmax(torch.softmax(outs.logits, 1), dim=1)))\n",
    "\n",
    "# print(torch.max(torch.softmax(outs.logits, 1), dim=1).values)\n",
    "# print(torch.softmax(outs.logits, 1))"
   ]
  },
  {
   "cell_type": "code",
   "execution_count": 216,
   "metadata": {},
   "outputs": [],
   "source": [
    "class CasualConversationBot:\n",
    "    def __init__(self, sep_token='<SEP>', eos_token='<EOS>'): \n",
    "        # gpt model\n",
    "        self.gpt_model_pipeline = pipeline('text-generation', model='./gpt_model_partially_trained', tokenizer='gpt2', config={'max_length':1500})\n",
    "        \n",
    "        # upvote predictor model\n",
    "        # self.upvote_predictor = BertForSequenceClassification.from_pretrained('upvote_model_finished', num_labels=2)\n",
    "        # self.upvote_predictor_tokenizer = BertTokenizerFast.from_pretrained('distilbert-base-cased', use_cache=True)\n",
    "        \n",
    "        # realism discriminator model\n",
    "        self.realism_model = BertForSequenceClassification.from_pretrained('realism_model_finished', num_labels=2)\n",
    "        self.realism_model_tokenizer = BertTokenizerFast.from_pretrained('distilbert-base-cased', use_cache=True)\n",
    "        \n",
    "        # parameters\n",
    "        self.sep_token = sep_token\n",
    "        self.eos_token = eos_token\n",
    "    \n",
    "    def generate_gpt_responses(self, question, num_candidates=5):\n",
    "        questions = []\n",
    "        responses = []\n",
    "        for _ in range(num_candidates):\n",
    "            text = self.gpt_model_pipeline(question + \" \" + self.sep_token)[0]['generated_text'].split(self.sep_token,1)\n",
    "            questions.append(text[0])\n",
    "            responses.append(text[1].split(self.eos_token, 1)[0])\n",
    "        return questions, responses\n",
    "    \n",
    "    def tokenize_responses(self, responses, tokenizer):\n",
    "        encodings = tokenizer(text=responses, truncation=True, padding=True)\n",
    "        items = {key: torch.tensor(val) for key, val in encodings.items()}\n",
    "        return items\n",
    "    \n",
    "    def score_responses(self, responses, model, tokenizer):\n",
    "        items = self.tokenize_responses(responses=responses, tokenizer=tokenizer)\n",
    "        outs = model.forward(input_ids=items['input_ids'], attention_mask=items['attention_mask'], token_type_ids=items['token_type_ids'])\n",
    "        probs = torch.softmax(outs.logits, 1)\n",
    "        return probs\n",
    "\n",
    "    def predict(self, question, num_candidates=5):\n",
    "        # generate possible candidate responses from gpt model based on questions\n",
    "        questions, responses = self.generate_gpt_responses(question=question, num_candidates=num_candidates)\n",
    "        \n",
    "        # get upvote predictions based on responses\n",
    "        # upvote_scores = self.score_responses(questions=questions, responses=responses, model=self.upvote_predictor, tokenizer=self.upvote_predictor_tokenizer)\n",
    "        \n",
    "        # get realism discriminator scores\n",
    "        realism_scores = self.score_responses(responses=responses, model=self.realism_model, tokenizer=self.realism_model_tokenizer)\n",
    "        \n",
    "        # find best response based on upvote predictor \n",
    "        for idx in range(len(responses)):\n",
    "            print(responses[idx])\n",
    "            print('Realism score: ', realism_scores[idx])\n",
    "            print('------------')\n",
    "        \n",
    "        print(realism_scores)\n",
    "        print(realism_scores[:,1])\n",
    "        print(torch.argmax(realism_scores[:,1]))\n",
    "        print(len(responses))\n",
    "        print('Most realistic')\n",
    "        print(torch.argmax(realism_scores).item())\n",
    "        print(responses[torch.argmax(realism_scores).item()])\n",
    "        print(realism_scores[torch.argmax(realism_scores).item()])\n",
    "        \n",
    "    "
   ]
  },
  {
   "cell_type": "code",
   "execution_count": null,
   "metadata": {},
   "outputs": [],
   "source": [
    "bot = CasualConversationBot(sep_token='<BOS>')\n",
    "# bot.predict(question=\"How was your day?\")"
   ]
  },
  {
   "cell_type": "code",
   "execution_count": null,
   "metadata": {},
   "outputs": [],
   "source": [
    "bot.predict(question=\"How was your day?\", num_candidates=2)"
   ]
  },
  {
   "cell_type": "code",
   "execution_count": 159,
   "metadata": {},
   "outputs": [
    {
     "name": "stderr",
     "output_type": "stream",
     "text": [
      "Setting `pad_token_id` to `eos_token_id`:50256 for open-end generation.\n",
      "Setting `pad_token_id` to `eos_token_id`:50256 for open-end generation.\n",
      "Setting `pad_token_id` to `eos_token_id`:50256 for open-end generation.\n",
      "Setting `pad_token_id` to `eos_token_id`:50256 for open-end generation.\n",
      "Setting `pad_token_id` to `eos_token_id`:50256 for open-end generation.\n",
      "Setting `pad_token_id` to `eos_token_id`:50256 for open-end generation.\n",
      "Setting `pad_token_id` to `eos_token_id`:50256 for open-end generation.\n",
      "Setting `pad_token_id` to `eos_token_id`:50256 for open-end generation.\n",
      "Setting `pad_token_id` to `eos_token_id`:50256 for open-end generation.\n",
      "Setting `pad_token_id` to `eos_token_id`:50256 for open-end generation.\n",
      "Asking to truncate to max_length but no maximum length is provided and the model has no predefined maximum length. Default to no truncation.\n",
      "Asking to truncate to max_length but no maximum length is provided and the model has no predefined maximum length. Default to no truncation.\n"
     ]
    },
    {
     "name": "stdout",
     "output_type": "stream",
     "text": [
      " I'm not a lesbian, but I find it hard to see the gender roles as more important than the genders. And what I do see as cool is that most guys and girls have\n",
      "Realism score:  tensor([0.9986, 0.0014], grad_fn=<SelectBackward>)\n",
      "Upvote score:  tensor([0.4892, 0.5108], grad_fn=<SelectBackward>)\n",
      "------------\n",
      " I'm not lesbian, but I've always thought bisexuality was wrong. And bisexuality is beautiful, but I think bisexuality is kind of overrated. I want to be a\n",
      "Realism score:  tensor([0.9964, 0.0036], grad_fn=<SelectBackward>)\n",
      "Upvote score:  tensor([0.4892, 0.5108], grad_fn=<SelectBackward>)\n",
      "------------\n",
      " I can't stand the whole gay marriage thing. \n",
      "Maybe I'm just not in the right place at the moment? I feel like all my friends are out to get me,\n",
      "Realism score:  tensor([0.9984, 0.0016], grad_fn=<SelectBackward>)\n",
      "Upvote score:  tensor([0.4892, 0.5108], grad_fn=<SelectBackward>)\n",
      "------------\n",
      " I would make a good burger, but a woman would hate me and wouldn't know what to do after I'm done eating. Even though that sounds okay.  \n",
      "Realism score:  tensor([0.2559, 0.7441], grad_fn=<SelectBackward>)\n",
      "Upvote score:  tensor([0.4892, 0.5108], grad_fn=<SelectBackward>)\n",
      "------------\n",
      " I'm a pretty large bisexual woman. It's my favorite thing in the world to share with you guys, especially since you said it! :) It's fun to just get a buzz\n",
      "Realism score:  tensor([0.9981, 0.0019], grad_fn=<SelectBackward>)\n",
      "Upvote score:  tensor([0.4892, 0.5108], grad_fn=<SelectBackward>)\n",
      "------------\n",
      " Don't judge. If you judge then it can be done, especially if it's in a really negative way. If it's in an upbeat way, then it might make sense I\n",
      "Realism score:  tensor([0.9983, 0.0017], grad_fn=<SelectBackward>)\n",
      "Upvote score:  tensor([0.4892, 0.5108], grad_fn=<SelectBackward>)\n",
      "------------\n",
      " I believe I'll have a good relationship in about two years with my new best friend! :D\n",
      "\n",
      "I'm also pretty excited to have fun with my friends. It's cool\n",
      "Realism score:  tensor([0.9805, 0.0195], grad_fn=<SelectBackward>)\n",
      "Upvote score:  tensor([0.4892, 0.5108], grad_fn=<SelectBackward>)\n",
      "------------\n",
      " My mom told me today that I look like a dork when I wear heels. I don't know why, I just feel weird getting compliments on how I'm dressed, like I\n",
      "Realism score:  tensor([0.9986, 0.0014], grad_fn=<SelectBackward>)\n",
      "Upvote score:  tensor([0.4892, 0.5108], grad_fn=<SelectBackward>)\n",
      "------------\n",
      " I have two friends and my best friend, but we don't kiss or bang. I feel like a waste.  \n",
      "Realism score:  tensor([0.9915, 0.0085], grad_fn=<SelectBackward>)\n",
      "Upvote score:  tensor([0.4892, 0.5108], grad_fn=<SelectBackward>)\n",
      "------------\n",
      " I hate it when girls say they want to be in cuddle places - just don't. \n",
      "Realism score:  tensor([0.9724, 0.0276], grad_fn=<SelectBackward>)\n",
      "Upvote score:  tensor([0.4892, 0.5108], grad_fn=<SelectBackward>)\n",
      "------------\n"
     ]
    }
   ],
   "source": [
    "bot.predict(question=\"How do you feel about the opposite sex?\", num_candidates=10)"
   ]
  },
  {
   "cell_type": "code",
   "execution_count": 162,
   "metadata": {},
   "outputs": [
    {
     "name": "stderr",
     "output_type": "stream",
     "text": [
      "Setting `pad_token_id` to `eos_token_id`:50256 for open-end generation.\n",
      "Setting `pad_token_id` to `eos_token_id`:50256 for open-end generation.\n",
      "Setting `pad_token_id` to `eos_token_id`:50256 for open-end generation.\n",
      "Setting `pad_token_id` to `eos_token_id`:50256 for open-end generation.\n",
      "Setting `pad_token_id` to `eos_token_id`:50256 for open-end generation.\n",
      "Setting `pad_token_id` to `eos_token_id`:50256 for open-end generation.\n",
      "Setting `pad_token_id` to `eos_token_id`:50256 for open-end generation.\n",
      "Setting `pad_token_id` to `eos_token_id`:50256 for open-end generation.\n",
      "Setting `pad_token_id` to `eos_token_id`:50256 for open-end generation.\n",
      "Setting `pad_token_id` to `eos_token_id`:50256 for open-end generation.\n"
     ]
    },
    {
     "name": "stdout",
     "output_type": "stream",
     "text": [
      " At first I thought this was a joke but the second I thought it wasn't?\n",
      "\n",
      "I'm more of an introvert. \n",
      "Realism score:  tensor([0.9984, 0.0016], grad_fn=<SelectBackward>)\n",
      "Upvote score:  tensor([0.4892, 0.5108], grad_fn=<SelectBackward>)\n",
      "------------\n",
      " I'm not fat. I'm a tall ass man. The people that I'm friends with believe I'm pretty average with a bit of a waist or something, and that's where I'm\n",
      "Realism score:  tensor([0.9982, 0.0018], grad_fn=<SelectBackward>)\n",
      "Upvote score:  tensor([0.4892, 0.5108], grad_fn=<SelectBackward>)\n",
      "------------\n",
      " This could be on a larger scale, but you think I'm really ugly now? \n",
      "Realism score:  tensor([0.3395, 0.6605], grad_fn=<SelectBackward>)\n",
      "Upvote score:  tensor([0.4892, 0.5108], grad_fn=<SelectBackward>)\n",
      "------------\n",
      " What did you eat (in both of the original photos)? \n",
      "Realism score:  tensor([0.4479, 0.5521], grad_fn=<SelectBackward>)\n",
      "Upvote score:  tensor([0.4892, 0.5108], grad_fn=<SelectBackward>)\n",
      "------------\n",
      " Aww, geez man! I wish I could give a huge (and short) speech like you have!\n",
      "\n",
      "\n",
      "Just keep me company.\n",
      "\n",
      "\n",
      "You're so lovely.\n",
      "\n",
      "\n",
      "\n",
      "Realism score:  tensor([0.9880, 0.0120], grad_fn=<SelectBackward>)\n",
      "Upvote score:  tensor([0.4892, 0.5108], grad_fn=<SelectBackward>)\n",
      "------------\n",
      " I'm not at all. I've been eating healthier. I just have healthier coworkers. It's good. \n",
      "Realism score:  tensor([0.9962, 0.0038], grad_fn=<SelectBackward>)\n",
      "Upvote score:  tensor([0.4892, 0.5108], grad_fn=<SelectBackward>)\n",
      "------------\n",
      " Is there anything else you're curious about?  \n",
      "I'm curious as to how your body looks.  Do you have a \"look/feel\" pattern? \n",
      "Realism score:  tensor([0.9870, 0.0130], grad_fn=<SelectBackward>)\n",
      "Upvote score:  tensor([0.4892, 0.5108], grad_fn=<SelectBackward>)\n",
      "------------\n",
      " Yes i'm much happier being smaller than the average citizen \n",
      "Realism score:  tensor([0.0325, 0.9675], grad_fn=<SelectBackward>)\n",
      "Upvote score:  tensor([0.4892, 0.5108], grad_fn=<SelectBackward>)\n",
      "------------\n",
      " If I had to pick just one definition of \"fat\", I'd say \"blegh\", and if I have a healthy weight I'd say \"blech\". In my experience people think the\n",
      "Realism score:  tensor([0.9925, 0.0075], grad_fn=<SelectBackward>)\n",
      "Upvote score:  tensor([0.4892, 0.5108], grad_fn=<SelectBackward>)\n",
      "------------\n",
      " [You're so cute, you don't know this for a fact](http://i.imgur.com/V5mHmT5.jpg) \n",
      "Realism score:  tensor([0.9971, 0.0029], grad_fn=<SelectBackward>)\n",
      "Upvote score:  tensor([0.4892, 0.5108], grad_fn=<SelectBackward>)\n",
      "------------\n"
     ]
    }
   ],
   "source": [
    "bot.predict(question=\"Do you think I'm fat?\", num_candidates=10) "
   ]
  },
  {
   "cell_type": "code",
   "execution_count": 164,
   "metadata": {},
   "outputs": [
    {
     "name": "stderr",
     "output_type": "stream",
     "text": [
      "Setting `pad_token_id` to `eos_token_id`:50256 for open-end generation.\n",
      "Setting `pad_token_id` to `eos_token_id`:50256 for open-end generation.\n",
      "Setting `pad_token_id` to `eos_token_id`:50256 for open-end generation.\n",
      "Setting `pad_token_id` to `eos_token_id`:50256 for open-end generation.\n",
      "Setting `pad_token_id` to `eos_token_id`:50256 for open-end generation.\n",
      "Setting `pad_token_id` to `eos_token_id`:50256 for open-end generation.\n",
      "Setting `pad_token_id` to `eos_token_id`:50256 for open-end generation.\n",
      "Setting `pad_token_id` to `eos_token_id`:50256 for open-end generation.\n",
      "Setting `pad_token_id` to `eos_token_id`:50256 for open-end generation.\n",
      "Setting `pad_token_id` to `eos_token_id`:50256 for open-end generation.\n"
     ]
    },
    {
     "name": "stdout",
     "output_type": "stream",
     "text": [
      " I've never had Chipotle... Is this true? Is it good? Am I wasting my money over it? \n",
      "Realism score:  tensor([0.0144, 0.9856], grad_fn=<SelectBackward>)\n",
      "Upvote score:  tensor([0.4892, 0.5108], grad_fn=<SelectBackward>)\n",
      "------------\n",
      " Let's just talk about the Game of Thrones books :) \n",
      "Realism score:  tensor([0.0631, 0.9369], grad_fn=<SelectBackward>)\n",
      "Upvote score:  tensor([0.4892, 0.5108], grad_fn=<SelectBackward>)\n",
      "------------\n",
      " I'm in the mood for \"The One\". I have a lot of thoughts these days, but this show made me smile. The characters are super likable, and the jokes are fun\n",
      "Realism score:  tensor([0.9965, 0.0035], grad_fn=<SelectBackward>)\n",
      "Upvote score:  tensor([0.4892, 0.5108], grad_fn=<SelectBackward>)\n",
      "------------\n",
      " How about Dune? \n",
      "Realism score:  tensor([0.0165, 0.9835], grad_fn=<SelectBackward>)\n",
      "Upvote score:  tensor([0.4892, 0.5108], grad_fn=<SelectBackward>)\n",
      "------------\n",
      " I'm curious to see if /r/CasualConversation will become a thing, too! \n",
      "Realism score:  tensor([0.9925, 0.0075], grad_fn=<SelectBackward>)\n",
      "Upvote score:  tensor([0.4892, 0.5108], grad_fn=<SelectBackward>)\n",
      "------------\n",
      " I'm gonna start a hobby... \n",
      "Realism score:  tensor([0.9259, 0.0741], grad_fn=<SelectBackward>)\n",
      "Upvote score:  tensor([0.4892, 0.5108], grad_fn=<SelectBackward>)\n",
      "------------\n",
      " I don't want to be a lame celebrity person with \"This was never meant for children\" on my lips.  \n",
      "Realism score:  tensor([0.9906, 0.0094], grad_fn=<SelectBackward>)\n",
      "Upvote score:  tensor([0.4892, 0.5108], grad_fn=<SelectBackward>)\n",
      "------------\n",
      " Not really a movie I'd watch. What if there's a weird event that has happened and everyone is super upset? \n",
      "Realism score:  tensor([0.9907, 0.0093], grad_fn=<SelectBackward>)\n",
      "Upvote score:  tensor([0.4892, 0.5108], grad_fn=<SelectBackward>)\n",
      "------------\n",
      " Just realized i've missed a couple of people on this list, so here's my list :\n",
      "\n",
      "\n",
      "\n",
      "\n",
      "* Pulp Fiction\n",
      "* The Fountain\n",
      "* American Beauty\n",
      "* A Clockwork\n",
      "Realism score:  tensor([0.9986, 0.0014], grad_fn=<SelectBackward>)\n",
      "Upvote score:  tensor([0.4892, 0.5108], grad_fn=<SelectBackward>)\n",
      "------------\n",
      " I would love to see the [gutter](https://i.imgur.com/uKjX7b5.jpg)\n",
      "\n",
      "Also, if this is not a picture\n",
      "Realism score:  tensor([0.9985, 0.0015], grad_fn=<SelectBackward>)\n",
      "Upvote score:  tensor([0.4892, 0.5108], grad_fn=<SelectBackward>)\n",
      "------------\n"
     ]
    }
   ],
   "source": [
    "bot.predict(question=\"Any movie reccomendations?\", num_candidates=10) "
   ]
  },
  {
   "cell_type": "code",
   "execution_count": 211,
   "metadata": {},
   "outputs": [
    {
     "name": "stderr",
     "output_type": "stream",
     "text": [
      "Setting `pad_token_id` to `eos_token_id`:50256 for open-end generation.\n",
      "Setting `pad_token_id` to `eos_token_id`:50256 for open-end generation.\n",
      "Setting `pad_token_id` to `eos_token_id`:50256 for open-end generation.\n",
      "Setting `pad_token_id` to `eos_token_id`:50256 for open-end generation.\n",
      "Setting `pad_token_id` to `eos_token_id`:50256 for open-end generation.\n",
      "Setting `pad_token_id` to `eos_token_id`:50256 for open-end generation.\n",
      "Setting `pad_token_id` to `eos_token_id`:50256 for open-end generation.\n",
      "Setting `pad_token_id` to `eos_token_id`:50256 for open-end generation.\n",
      "Setting `pad_token_id` to `eos_token_id`:50256 for open-end generation.\n",
      "Setting `pad_token_id` to `eos_token_id`:50256 for open-end generation.\n"
     ]
    },
    {
     "name": "stdout",
     "output_type": "stream",
     "text": [
      " My day was awesome. This morning I spent $454. I'm just looking forward to seeing my first boyfriend again.\n",
      "\n",
      "So happy for you, and yours too! <EOS\n",
      "Realism score:  tensor([0.9987, 0.0013], grad_fn=<SelectBackward>)\n",
      "------------\n",
      " Aw yeah. Was a quiet day today as well, I took up football and I took a shower in the bathroom.  \n",
      "Realism score:  tensor([0.9939, 0.0061], grad_fn=<SelectBackward>)\n",
      "------------\n",
      " I just ate one of my dad's sandwiches as well! \n",
      "Realism score:  tensor([0.9580, 0.0420], grad_fn=<SelectBackward>)\n",
      "------------\n",
      " Not much today. Nothing great. Had to get ready for the semester to open back up some time, so my exam to be next week is on a Wednesday. The week is being spent\n",
      "Realism score:  tensor([0.9981, 0.0019], grad_fn=<SelectBackward>)\n",
      "------------\n",
      " I've been sleeping, but I've not eaten so far in as much time as I'll probably take to read some books. \n",
      "Realism score:  tensor([0.9975, 0.0025], grad_fn=<SelectBackward>)\n",
      "------------\n",
      " I had my lunch, it was my 4th, so thanks! I guess the school schedule is too stressful? \n",
      "Realism score:  tensor([0.0796, 0.9204], grad_fn=<SelectBackward>)\n",
      "------------\n",
      " I'm just listening to [this one](https://www.youtube.com/watch?v=Wf9H2mYqN1Y) after a few hours of\n",
      "Realism score:  tensor([0.9971, 0.0029], grad_fn=<SelectBackward>)\n",
      "------------\n",
      " I woke up, had some coffee, walked back to school so I can get back home and finish writing my paper on my degree from an ASL for my minor in Biochemistry &amp\n",
      "Realism score:  tensor([0.9981, 0.0019], grad_fn=<SelectBackward>)\n",
      "------------\n",
      " Today's my cake day! I didn't do much. Nothing new after today... \n",
      "Realism score:  tensor([0.0064, 0.9936], grad_fn=<SelectBackward>)\n",
      "------------\n",
      " Good evening from France! \n",
      "Realism score:  tensor([0.8297, 0.1703], grad_fn=<SelectBackward>)\n",
      "------------\n",
      "tensor([[0.9987, 0.0013],\n",
      "        [0.9939, 0.0061],\n",
      "        [0.9580, 0.0420],\n",
      "        [0.9981, 0.0019],\n",
      "        [0.9975, 0.0025],\n",
      "        [0.0796, 0.9204],\n",
      "        [0.9971, 0.0029],\n",
      "        [0.9981, 0.0019],\n",
      "        [0.0064, 0.9936],\n",
      "        [0.8297, 0.1703]], grad_fn=<SoftmaxBackward>)\n",
      "tensor([0.0013, 0.0061, 0.0420, 0.0019, 0.0025, 0.9204, 0.0029, 0.0019, 0.9936,\n",
      "        0.1703], grad_fn=<SelectBackward>)\n",
      "tensor(8)\n",
      "Most realistic\n",
      " My day was awesome. This morning I spent $454. I'm just looking forward to seeing my first boyfriend again.\n",
      "\n",
      "So happy for you, and yours too! <EOS\n",
      "tensor([0.9987, 0.0013], grad_fn=<SelectBackward>)\n"
     ]
    }
   ],
   "source": [
    "bot.predict(question=\"How was your day today, Reddit?\", num_candidates=10) "
   ]
  },
  {
   "cell_type": "code",
   "execution_count": 214,
   "metadata": {},
   "outputs": [
    {
     "name": "stderr",
     "output_type": "stream",
     "text": [
      "Setting `pad_token_id` to `eos_token_id`:50256 for open-end generation.\n",
      "Setting `pad_token_id` to `eos_token_id`:50256 for open-end generation.\n",
      "Setting `pad_token_id` to `eos_token_id`:50256 for open-end generation.\n",
      "Setting `pad_token_id` to `eos_token_id`:50256 for open-end generation.\n",
      "Setting `pad_token_id` to `eos_token_id`:50256 for open-end generation.\n",
      "Setting `pad_token_id` to `eos_token_id`:50256 for open-end generation.\n",
      "Setting `pad_token_id` to `eos_token_id`:50256 for open-end generation.\n",
      "Setting `pad_token_id` to `eos_token_id`:50256 for open-end generation.\n",
      "Setting `pad_token_id` to `eos_token_id`:50256 for open-end generation.\n",
      "Setting `pad_token_id` to `eos_token_id`:50256 for open-end generation.\n",
      "Asking to truncate to max_length but no maximum length is provided and the model has no predefined maximum length. Default to no truncation.\n"
     ]
    },
    {
     "name": "stdout",
     "output_type": "stream",
     "text": [
      " I'm so happy for you! Just want to tell you that this is an awesome feeling and I have been here for years and I feel great.\n",
      "Realism score:  tensor([0.9977, 0.0023], grad_fn=<SelectBackward>)\n",
      "------------\n",
      " I just discovered Facebook, what's an app on the phone like? Facebook does that same thing. :| \n",
      "Realism score:  tensor([0.1510, 0.8490], grad_fn=<SelectBackward>)\n",
      "------------\n",
      " It's the perfect lunch and no one is judging you. \n",
      "Realism score:  tensor([0.9314, 0.0686], grad_fn=<SelectBackward>)\n",
      "------------\n",
      " I am currently planning a camping trip to the West Coast in a week or so! The weather is nice, the sights are cool, the weather is\n",
      "Realism score:  tensor([0.9877, 0.0123], grad_fn=<SelectBackward>)\n",
      "------------\n",
      " It's a really big thing, do you wanna talk about you family but not about the world? \n",
      "Realism score:  tensor([0.9695, 0.0305], grad_fn=<SelectBackward>)\n",
      "------------\n",
      " I live next to a university library and the whole place has a collection of music. We are on a train journey the other day and we are the\n",
      "Realism score:  tensor([0.9985, 0.0015], grad_fn=<SelectBackward>)\n",
      "------------\n",
      " Did you have some sort of an unusual or unusual goal or motivation? \n",
      "\n",
      "I actually want to have my dream job, but I don't\n",
      "Realism score:  tensor([0.9830, 0.0170], grad_fn=<SelectBackward>)\n",
      "------------\n",
      " I got told by one of my closest friends that I'd be starting a project on my university studies. I said I was in the mood to meet\n",
      "Realism score:  tensor([0.9978, 0.0022], grad_fn=<SelectBackward>)\n",
      "------------\n",
      " I'm thinking of going to this weekend! I don't remember it but when my friend came into the room with her friends, he said hi and\n",
      "Realism score:  tensor([0.9950, 0.0050], grad_fn=<SelectBackward>)\n",
      "------------\n",
      " I'm very glad to hear all the love from all the reddit-ers over there :D \n",
      "Realism score:  tensor([0.0228, 0.9772], grad_fn=<SelectBackward>)\n",
      "------------\n",
      "tensor([[0.9977, 0.0023],\n",
      "        [0.1510, 0.8490],\n",
      "        [0.9314, 0.0686],\n",
      "        [0.9877, 0.0123],\n",
      "        [0.9695, 0.0305],\n",
      "        [0.9985, 0.0015],\n",
      "        [0.9830, 0.0170],\n",
      "        [0.9978, 0.0022],\n",
      "        [0.9950, 0.0050],\n",
      "        [0.0228, 0.9772]], grad_fn=<SoftmaxBackward>)\n",
      "tensor([0.0023, 0.8490, 0.0686, 0.0123, 0.0305, 0.0015, 0.0170, 0.0022, 0.0050,\n",
      "        0.9772], grad_fn=<SelectBackward>)\n",
      "tensor(9)\n",
      "10\n",
      "Most realistic\n"
     ]
    },
    {
     "ename": "IndexError",
     "evalue": "list index out of range",
     "output_type": "error",
     "traceback": [
      "\u001b[0;31m---------------------------------------------------------------------------\u001b[0m",
      "\u001b[0;31mIndexError\u001b[0m                                Traceback (most recent call last)",
      "\u001b[0;32m<ipython-input-214-c5d72da9de7b>\u001b[0m in \u001b[0;36m<module>\u001b[0;34m\u001b[0m\n\u001b[0;32m----> 1\u001b[0;31m \u001b[0mbot\u001b[0m\u001b[0;34m.\u001b[0m\u001b[0mpredict\u001b[0m\u001b[0;34m(\u001b[0m\u001b[0mquestion\u001b[0m\u001b[0;34m=\u001b[0m\u001b[0;34m\"I showed up late for work yesterday and everyone was genuinely happy to see me.\"\u001b[0m\u001b[0;34m,\u001b[0m \u001b[0mnum_candidates\u001b[0m\u001b[0;34m=\u001b[0m\u001b[0;36m10\u001b[0m\u001b[0;34m)\u001b[0m\u001b[0;34m\u001b[0m\u001b[0;34m\u001b[0m\u001b[0m\n\u001b[0m\u001b[1;32m      2\u001b[0m \u001b[0;34m\u001b[0m\u001b[0m\n",
      "\u001b[0;32m<ipython-input-212-bf5b176cb12c>\u001b[0m in \u001b[0;36mpredict\u001b[0;34m(self, question, num_candidates)\u001b[0m\n\u001b[1;32m     57\u001b[0m         \u001b[0mprint\u001b[0m\u001b[0;34m(\u001b[0m\u001b[0mlen\u001b[0m\u001b[0;34m(\u001b[0m\u001b[0mresponses\u001b[0m\u001b[0;34m)\u001b[0m\u001b[0;34m)\u001b[0m\u001b[0;34m\u001b[0m\u001b[0;34m\u001b[0m\u001b[0m\n\u001b[1;32m     58\u001b[0m         \u001b[0mprint\u001b[0m\u001b[0;34m(\u001b[0m\u001b[0;34m'Most realistic'\u001b[0m\u001b[0;34m)\u001b[0m\u001b[0;34m\u001b[0m\u001b[0;34m\u001b[0m\u001b[0m\n\u001b[0;32m---> 59\u001b[0;31m         \u001b[0mprint\u001b[0m\u001b[0;34m(\u001b[0m\u001b[0mresponses\u001b[0m\u001b[0;34m[\u001b[0m\u001b[0mtorch\u001b[0m\u001b[0;34m.\u001b[0m\u001b[0margmax\u001b[0m\u001b[0;34m(\u001b[0m\u001b[0mrealism_scores\u001b[0m\u001b[0;34m)\u001b[0m\u001b[0;34m.\u001b[0m\u001b[0mitem\u001b[0m\u001b[0;34m(\u001b[0m\u001b[0;34m)\u001b[0m\u001b[0;34m]\u001b[0m\u001b[0;34m)\u001b[0m\u001b[0;34m\u001b[0m\u001b[0;34m\u001b[0m\u001b[0m\n\u001b[0m\u001b[1;32m     60\u001b[0m         \u001b[0mprint\u001b[0m\u001b[0;34m(\u001b[0m\u001b[0mrealism_scores\u001b[0m\u001b[0;34m[\u001b[0m\u001b[0mtorch\u001b[0m\u001b[0;34m.\u001b[0m\u001b[0margmax\u001b[0m\u001b[0;34m(\u001b[0m\u001b[0mrealism_scores\u001b[0m\u001b[0;34m)\u001b[0m\u001b[0;34m.\u001b[0m\u001b[0mitem\u001b[0m\u001b[0;34m(\u001b[0m\u001b[0;34m)\u001b[0m\u001b[0;34m]\u001b[0m\u001b[0;34m)\u001b[0m\u001b[0;34m\u001b[0m\u001b[0;34m\u001b[0m\u001b[0m\n\u001b[1;32m     61\u001b[0m \u001b[0;34m\u001b[0m\u001b[0m\n",
      "\u001b[0;31mIndexError\u001b[0m: list index out of range"
     ]
    }
   ],
   "source": [
    "bot.predict(question=\"I showed up late for work yesterday and everyone was genuinely happy to see me.\", num_candidates=10)\n",
    "\n"
   ]
  },
  {
   "cell_type": "code",
   "execution_count": 215,
   "metadata": {},
   "outputs": [
    {
     "name": "stderr",
     "output_type": "stream",
     "text": [
      "Setting `pad_token_id` to `eos_token_id`:50256 for open-end generation.\n",
      "Setting `pad_token_id` to `eos_token_id`:50256 for open-end generation.\n",
      "Setting `pad_token_id` to `eos_token_id`:50256 for open-end generation.\n",
      "Setting `pad_token_id` to `eos_token_id`:50256 for open-end generation.\n",
      "Setting `pad_token_id` to `eos_token_id`:50256 for open-end generation.\n",
      "Setting `pad_token_id` to `eos_token_id`:50256 for open-end generation.\n",
      "Setting `pad_token_id` to `eos_token_id`:50256 for open-end generation.\n",
      "Setting `pad_token_id` to `eos_token_id`:50256 for open-end generation.\n",
      "Setting `pad_token_id` to `eos_token_id`:50256 for open-end generation.\n",
      "Setting `pad_token_id` to `eos_token_id`:50256 for open-end generation.\n"
     ]
    },
    {
     "name": "stdout",
     "output_type": "stream",
     "text": [
      " I don't really want to be someone else but I've decided I want to be the friend\n",
      "Realism score:  tensor([0.9975, 0.0025], grad_fn=<SelectBackward>)\n",
      "------------\n",
      " I have no problem using your username.  \n",
      "Realism score:  tensor([0.9958, 0.0042], grad_fn=<SelectBackward>)\n",
      "------------\n",
      " So I've had a little girl for 8 years now! And she's 6 this year and\n",
      "Realism score:  tensor([0.9985, 0.0015], grad_fn=<SelectBackward>)\n",
      "------------\n",
      " I can talk about a topic I am passionate of and share what it's about. It will\n",
      "Realism score:  tensor([0.8767, 0.1233], grad_fn=<SelectBackward>)\n",
      "------------\n",
      " I never read the replies, but I got this picture of an extremely hot dude being interviewed by\n",
      "Realism score:  tensor([0.9837, 0.0163], grad_fn=<SelectBackward>)\n",
      "------------\n",
      " No one ever thinks that “everybody” is a *bad* person or a\n",
      "Realism score:  tensor([0.9965, 0.0035], grad_fn=<SelectBackward>)\n",
      "------------\n",
      " It really depends on what you want the day to be and why.\n",
      "\n",
      "So if you\n",
      "Realism score:  tensor([0.9118, 0.0882], grad_fn=<SelectBackward>)\n",
      "------------\n",
      " I guess the biggest reason I don’t share any of those photos is because I don\n",
      "Realism score:  tensor([0.9987, 0.0013], grad_fn=<SelectBackward>)\n",
      "------------\n",
      " I'm sorry to hear that. It might sound kind of annoying, but I guess you're\n",
      "Realism score:  tensor([0.3750, 0.6250], grad_fn=<SelectBackward>)\n",
      "------------\n",
      " You seem like a person who was born and raised in this culture. How did you find your\n",
      "Realism score:  tensor([0.9928, 0.0072], grad_fn=<SelectBackward>)\n",
      "------------\n",
      "tensor([[0.9975, 0.0025],\n",
      "        [0.9958, 0.0042],\n",
      "        [0.9985, 0.0015],\n",
      "        [0.8767, 0.1233],\n",
      "        [0.9837, 0.0163],\n",
      "        [0.9965, 0.0035],\n",
      "        [0.9118, 0.0882],\n",
      "        [0.9987, 0.0013],\n",
      "        [0.3750, 0.6250],\n",
      "        [0.9928, 0.0072]], grad_fn=<SoftmaxBackward>)\n",
      "tensor([0.0025, 0.0042, 0.0015, 0.1233, 0.0163, 0.0035, 0.0882, 0.0013, 0.6250,\n",
      "        0.0072], grad_fn=<SelectBackward>)\n",
      "tensor(8)\n",
      "10\n",
      "Most realistic\n"
     ]
    },
    {
     "ename": "IndexError",
     "evalue": "list index out of range",
     "output_type": "error",
     "traceback": [
      "\u001b[0;31m---------------------------------------------------------------------------\u001b[0m",
      "\u001b[0;31mIndexError\u001b[0m                                Traceback (most recent call last)",
      "\u001b[0;32m<ipython-input-215-b53306453449>\u001b[0m in \u001b[0;36m<module>\u001b[0;34m\u001b[0m\n\u001b[0;32m----> 1\u001b[0;31m \u001b[0mbot\u001b[0m\u001b[0;34m.\u001b[0m\u001b[0mpredict\u001b[0m\u001b[0;34m(\u001b[0m\u001b[0mquestion\u001b[0m\u001b[0;34m=\u001b[0m\u001b[0;34m\"After a year without Instagram or Facebook, I’m shocked that I ever shared personal details of my day with hundreds of people.\"\u001b[0m\u001b[0;34m,\u001b[0m \u001b[0mnum_candidates\u001b[0m\u001b[0;34m=\u001b[0m\u001b[0;36m10\u001b[0m\u001b[0;34m)\u001b[0m\u001b[0;34m\u001b[0m\u001b[0;34m\u001b[0m\u001b[0m\n\u001b[0m",
      "\u001b[0;32m<ipython-input-212-bf5b176cb12c>\u001b[0m in \u001b[0;36mpredict\u001b[0;34m(self, question, num_candidates)\u001b[0m\n\u001b[1;32m     57\u001b[0m         \u001b[0mprint\u001b[0m\u001b[0;34m(\u001b[0m\u001b[0mlen\u001b[0m\u001b[0;34m(\u001b[0m\u001b[0mresponses\u001b[0m\u001b[0;34m)\u001b[0m\u001b[0;34m)\u001b[0m\u001b[0;34m\u001b[0m\u001b[0;34m\u001b[0m\u001b[0m\n\u001b[1;32m     58\u001b[0m         \u001b[0mprint\u001b[0m\u001b[0;34m(\u001b[0m\u001b[0;34m'Most realistic'\u001b[0m\u001b[0;34m)\u001b[0m\u001b[0;34m\u001b[0m\u001b[0;34m\u001b[0m\u001b[0m\n\u001b[0;32m---> 59\u001b[0;31m         \u001b[0mprint\u001b[0m\u001b[0;34m(\u001b[0m\u001b[0mresponses\u001b[0m\u001b[0;34m[\u001b[0m\u001b[0mtorch\u001b[0m\u001b[0;34m.\u001b[0m\u001b[0margmax\u001b[0m\u001b[0;34m(\u001b[0m\u001b[0mrealism_scores\u001b[0m\u001b[0;34m)\u001b[0m\u001b[0;34m.\u001b[0m\u001b[0mitem\u001b[0m\u001b[0;34m(\u001b[0m\u001b[0;34m)\u001b[0m\u001b[0;34m]\u001b[0m\u001b[0;34m)\u001b[0m\u001b[0;34m\u001b[0m\u001b[0;34m\u001b[0m\u001b[0m\n\u001b[0m\u001b[1;32m     60\u001b[0m         \u001b[0mprint\u001b[0m\u001b[0;34m(\u001b[0m\u001b[0mrealism_scores\u001b[0m\u001b[0;34m[\u001b[0m\u001b[0mtorch\u001b[0m\u001b[0;34m.\u001b[0m\u001b[0margmax\u001b[0m\u001b[0;34m(\u001b[0m\u001b[0mrealism_scores\u001b[0m\u001b[0;34m)\u001b[0m\u001b[0;34m.\u001b[0m\u001b[0mitem\u001b[0m\u001b[0;34m(\u001b[0m\u001b[0;34m)\u001b[0m\u001b[0;34m]\u001b[0m\u001b[0;34m)\u001b[0m\u001b[0;34m\u001b[0m\u001b[0;34m\u001b[0m\u001b[0m\n\u001b[1;32m     61\u001b[0m \u001b[0;34m\u001b[0m\u001b[0m\n",
      "\u001b[0;31mIndexError\u001b[0m: list index out of range"
     ]
    }
   ],
   "source": [
    "bot.predict(question=\"After a year without Instagram or Facebook, I’m shocked that I ever shared personal details of my day with hundreds of people.\", num_candidates=10) \n"
   ]
  },
  {
   "cell_type": "code",
   "execution_count": null,
   "metadata": {},
   "outputs": [],
   "source": []
  }
 ],
 "metadata": {
  "colab": {
   "authorship_tag": "ABX9TyMyGVL4I5At7sO4SYt+Jdd7",
   "name": "Pipeline.ipynb",
   "provenance": []
  },
  "kernelspec": {
   "display_name": "Python [conda env:cp_CS7643] *",
   "language": "python",
   "name": "conda-env-cp_CS7643-py"
  },
  "language_info": {
   "codemirror_mode": {
    "name": "ipython",
    "version": 3
   },
   "file_extension": ".py",
   "mimetype": "text/x-python",
   "name": "python",
   "nbconvert_exporter": "python",
   "pygments_lexer": "ipython3",
   "version": "3.8.8"
  },
  "widgets": {
   "application/vnd.jupyter.widget-state+json": {
    "00eaa4a9c9bc439d9a632aedaf9bdde3": {
     "model_module": "@jupyter-widgets/controls",
     "model_name": "HBoxModel",
     "state": {
      "_dom_classes": [],
      "_model_module": "@jupyter-widgets/controls",
      "_model_module_version": "1.5.0",
      "_model_name": "HBoxModel",
      "_view_count": null,
      "_view_module": "@jupyter-widgets/controls",
      "_view_module_version": "1.5.0",
      "_view_name": "HBoxView",
      "box_style": "",
      "children": [
       "IPY_MODEL_81fc420f7bc947ac87b5c30768429e60",
       "IPY_MODEL_406509af413841ec8b429c091821d2c0"
      ],
      "layout": "IPY_MODEL_104ed734b8ab41418a9c5a96f23c0c97"
     }
    },
    "09063b7efc1a4dc3abda05d6f623a9c8": {
     "model_module": "@jupyter-widgets/controls",
     "model_name": "HBoxModel",
     "state": {
      "_dom_classes": [],
      "_model_module": "@jupyter-widgets/controls",
      "_model_module_version": "1.5.0",
      "_model_name": "HBoxModel",
      "_view_count": null,
      "_view_module": "@jupyter-widgets/controls",
      "_view_module_version": "1.5.0",
      "_view_name": "HBoxView",
      "box_style": "",
      "children": [
       "IPY_MODEL_28fb01148ce249ef893f6d5934ac2d81",
       "IPY_MODEL_2feecd1be83246c2bac40504a1357dbc"
      ],
      "layout": "IPY_MODEL_ce8277402d0e4e39835f330ecc3ffb18"
     }
    },
    "096fa4350a4f4e638716991ceb57b5c6": {
     "model_module": "@jupyter-widgets/base",
     "model_name": "LayoutModel",
     "state": {
      "_model_module": "@jupyter-widgets/base",
      "_model_module_version": "1.2.0",
      "_model_name": "LayoutModel",
      "_view_count": null,
      "_view_module": "@jupyter-widgets/base",
      "_view_module_version": "1.2.0",
      "_view_name": "LayoutView",
      "align_content": null,
      "align_items": null,
      "align_self": null,
      "border": null,
      "bottom": null,
      "display": null,
      "flex": null,
      "flex_flow": null,
      "grid_area": null,
      "grid_auto_columns": null,
      "grid_auto_flow": null,
      "grid_auto_rows": null,
      "grid_column": null,
      "grid_gap": null,
      "grid_row": null,
      "grid_template_areas": null,
      "grid_template_columns": null,
      "grid_template_rows": null,
      "height": null,
      "justify_content": null,
      "justify_items": null,
      "left": null,
      "margin": null,
      "max_height": null,
      "max_width": null,
      "min_height": null,
      "min_width": null,
      "object_fit": null,
      "object_position": null,
      "order": null,
      "overflow": null,
      "overflow_x": null,
      "overflow_y": null,
      "padding": null,
      "right": null,
      "top": null,
      "visibility": null,
      "width": null
     }
    },
    "104ed734b8ab41418a9c5a96f23c0c97": {
     "model_module": "@jupyter-widgets/base",
     "model_name": "LayoutModel",
     "state": {
      "_model_module": "@jupyter-widgets/base",
      "_model_module_version": "1.2.0",
      "_model_name": "LayoutModel",
      "_view_count": null,
      "_view_module": "@jupyter-widgets/base",
      "_view_module_version": "1.2.0",
      "_view_name": "LayoutView",
      "align_content": null,
      "align_items": null,
      "align_self": null,
      "border": null,
      "bottom": null,
      "display": null,
      "flex": null,
      "flex_flow": null,
      "grid_area": null,
      "grid_auto_columns": null,
      "grid_auto_flow": null,
      "grid_auto_rows": null,
      "grid_column": null,
      "grid_gap": null,
      "grid_row": null,
      "grid_template_areas": null,
      "grid_template_columns": null,
      "grid_template_rows": null,
      "height": null,
      "justify_content": null,
      "justify_items": null,
      "left": null,
      "margin": null,
      "max_height": null,
      "max_width": null,
      "min_height": null,
      "min_width": null,
      "object_fit": null,
      "object_position": null,
      "order": null,
      "overflow": null,
      "overflow_x": null,
      "overflow_y": null,
      "padding": null,
      "right": null,
      "top": null,
      "visibility": null,
      "width": null
     }
    },
    "115de47eddd24699a54027c2ce486fa1": {
     "model_module": "@jupyter-widgets/controls",
     "model_name": "FloatProgressModel",
     "state": {
      "_dom_classes": [],
      "_model_module": "@jupyter-widgets/controls",
      "_model_module_version": "1.5.0",
      "_model_name": "FloatProgressModel",
      "_view_count": null,
      "_view_module": "@jupyter-widgets/controls",
      "_view_module_version": "1.5.0",
      "_view_name": "ProgressView",
      "bar_style": "success",
      "description": "Downloading: 100%",
      "description_tooltip": null,
      "layout": "IPY_MODEL_48a9cb4c9e1d4f82a839b228c3c288ee",
      "max": 435797,
      "min": 0,
      "orientation": "horizontal",
      "style": "IPY_MODEL_49125877ecbc4c309fa756679b54992f",
      "value": 435797
     }
    },
    "11647830a96d492d889180202f5870da": {
     "model_module": "@jupyter-widgets/base",
     "model_name": "LayoutModel",
     "state": {
      "_model_module": "@jupyter-widgets/base",
      "_model_module_version": "1.2.0",
      "_model_name": "LayoutModel",
      "_view_count": null,
      "_view_module": "@jupyter-widgets/base",
      "_view_module_version": "1.2.0",
      "_view_name": "LayoutView",
      "align_content": null,
      "align_items": null,
      "align_self": null,
      "border": null,
      "bottom": null,
      "display": null,
      "flex": null,
      "flex_flow": null,
      "grid_area": null,
      "grid_auto_columns": null,
      "grid_auto_flow": null,
      "grid_auto_rows": null,
      "grid_column": null,
      "grid_gap": null,
      "grid_row": null,
      "grid_template_areas": null,
      "grid_template_columns": null,
      "grid_template_rows": null,
      "height": null,
      "justify_content": null,
      "justify_items": null,
      "left": null,
      "margin": null,
      "max_height": null,
      "max_width": null,
      "min_height": null,
      "min_width": null,
      "object_fit": null,
      "object_position": null,
      "order": null,
      "overflow": null,
      "overflow_x": null,
      "overflow_y": null,
      "padding": null,
      "right": null,
      "top": null,
      "visibility": null,
      "width": null
     }
    },
    "2631287f2b084b5fa84de17991d08141": {
     "model_module": "@jupyter-widgets/controls",
     "model_name": "DescriptionStyleModel",
     "state": {
      "_model_module": "@jupyter-widgets/controls",
      "_model_module_version": "1.5.0",
      "_model_name": "DescriptionStyleModel",
      "_view_count": null,
      "_view_module": "@jupyter-widgets/base",
      "_view_module_version": "1.2.0",
      "_view_name": "StyleView",
      "description_width": ""
     }
    },
    "28fb01148ce249ef893f6d5934ac2d81": {
     "model_module": "@jupyter-widgets/controls",
     "model_name": "FloatProgressModel",
     "state": {
      "_dom_classes": [],
      "_model_module": "@jupyter-widgets/controls",
      "_model_module_version": "1.5.0",
      "_model_name": "FloatProgressModel",
      "_view_count": null,
      "_view_module": "@jupyter-widgets/controls",
      "_view_module_version": "1.5.0",
      "_view_name": "ProgressView",
      "bar_style": "success",
      "description": "Downloading: 100%",
      "description_tooltip": null,
      "layout": "IPY_MODEL_e4554b8c60af483581248eba6f6574a9",
      "max": 29,
      "min": 0,
      "orientation": "horizontal",
      "style": "IPY_MODEL_8b27f6106dab49429c2964be9bba6beb",
      "value": 29
     }
    },
    "2feecd1be83246c2bac40504a1357dbc": {
     "model_module": "@jupyter-widgets/controls",
     "model_name": "HTMLModel",
     "state": {
      "_dom_classes": [],
      "_model_module": "@jupyter-widgets/controls",
      "_model_module_version": "1.5.0",
      "_model_name": "HTMLModel",
      "_view_count": null,
      "_view_module": "@jupyter-widgets/controls",
      "_view_module_version": "1.5.0",
      "_view_name": "HTMLView",
      "description": "",
      "description_tooltip": null,
      "layout": "IPY_MODEL_6ccc099cbaa0428a9a066825f95c9e91",
      "placeholder": "​",
      "style": "IPY_MODEL_2631287f2b084b5fa84de17991d08141",
      "value": " 29.0/29.0 [00:56&lt;00:00, 1.94s/B]"
     }
    },
    "406509af413841ec8b429c091821d2c0": {
     "model_module": "@jupyter-widgets/controls",
     "model_name": "HTMLModel",
     "state": {
      "_dom_classes": [],
      "_model_module": "@jupyter-widgets/controls",
      "_model_module_version": "1.5.0",
      "_model_name": "HTMLModel",
      "_view_count": null,
      "_view_module": "@jupyter-widgets/controls",
      "_view_module_version": "1.5.0",
      "_view_name": "HTMLView",
      "description": "",
      "description_tooltip": null,
      "layout": "IPY_MODEL_11647830a96d492d889180202f5870da",
      "placeholder": "​",
      "style": "IPY_MODEL_586f40d141404de6860f32350ec2208d",
      "value": " 213k/213k [00:00&lt;00:00, 293kB/s]"
     }
    },
    "48a9cb4c9e1d4f82a839b228c3c288ee": {
     "model_module": "@jupyter-widgets/base",
     "model_name": "LayoutModel",
     "state": {
      "_model_module": "@jupyter-widgets/base",
      "_model_module_version": "1.2.0",
      "_model_name": "LayoutModel",
      "_view_count": null,
      "_view_module": "@jupyter-widgets/base",
      "_view_module_version": "1.2.0",
      "_view_name": "LayoutView",
      "align_content": null,
      "align_items": null,
      "align_self": null,
      "border": null,
      "bottom": null,
      "display": null,
      "flex": null,
      "flex_flow": null,
      "grid_area": null,
      "grid_auto_columns": null,
      "grid_auto_flow": null,
      "grid_auto_rows": null,
      "grid_column": null,
      "grid_gap": null,
      "grid_row": null,
      "grid_template_areas": null,
      "grid_template_columns": null,
      "grid_template_rows": null,
      "height": null,
      "justify_content": null,
      "justify_items": null,
      "left": null,
      "margin": null,
      "max_height": null,
      "max_width": null,
      "min_height": null,
      "min_width": null,
      "object_fit": null,
      "object_position": null,
      "order": null,
      "overflow": null,
      "overflow_x": null,
      "overflow_y": null,
      "padding": null,
      "right": null,
      "top": null,
      "visibility": null,
      "width": null
     }
    },
    "49125877ecbc4c309fa756679b54992f": {
     "model_module": "@jupyter-widgets/controls",
     "model_name": "ProgressStyleModel",
     "state": {
      "_model_module": "@jupyter-widgets/controls",
      "_model_module_version": "1.5.0",
      "_model_name": "ProgressStyleModel",
      "_view_count": null,
      "_view_module": "@jupyter-widgets/base",
      "_view_module_version": "1.2.0",
      "_view_name": "StyleView",
      "bar_color": null,
      "description_width": "initial"
     }
    },
    "586f40d141404de6860f32350ec2208d": {
     "model_module": "@jupyter-widgets/controls",
     "model_name": "DescriptionStyleModel",
     "state": {
      "_model_module": "@jupyter-widgets/controls",
      "_model_module_version": "1.5.0",
      "_model_name": "DescriptionStyleModel",
      "_view_count": null,
      "_view_module": "@jupyter-widgets/base",
      "_view_module_version": "1.2.0",
      "_view_name": "StyleView",
      "description_width": ""
     }
    },
    "6ccc099cbaa0428a9a066825f95c9e91": {
     "model_module": "@jupyter-widgets/base",
     "model_name": "LayoutModel",
     "state": {
      "_model_module": "@jupyter-widgets/base",
      "_model_module_version": "1.2.0",
      "_model_name": "LayoutModel",
      "_view_count": null,
      "_view_module": "@jupyter-widgets/base",
      "_view_module_version": "1.2.0",
      "_view_name": "LayoutView",
      "align_content": null,
      "align_items": null,
      "align_self": null,
      "border": null,
      "bottom": null,
      "display": null,
      "flex": null,
      "flex_flow": null,
      "grid_area": null,
      "grid_auto_columns": null,
      "grid_auto_flow": null,
      "grid_auto_rows": null,
      "grid_column": null,
      "grid_gap": null,
      "grid_row": null,
      "grid_template_areas": null,
      "grid_template_columns": null,
      "grid_template_rows": null,
      "height": null,
      "justify_content": null,
      "justify_items": null,
      "left": null,
      "margin": null,
      "max_height": null,
      "max_width": null,
      "min_height": null,
      "min_width": null,
      "object_fit": null,
      "object_position": null,
      "order": null,
      "overflow": null,
      "overflow_x": null,
      "overflow_y": null,
      "padding": null,
      "right": null,
      "top": null,
      "visibility": null,
      "width": null
     }
    },
    "7da1971216144541ad4326e0e03dd346": {
     "model_module": "@jupyter-widgets/controls",
     "model_name": "HTMLModel",
     "state": {
      "_dom_classes": [],
      "_model_module": "@jupyter-widgets/controls",
      "_model_module_version": "1.5.0",
      "_model_name": "HTMLModel",
      "_view_count": null,
      "_view_module": "@jupyter-widgets/controls",
      "_view_module_version": "1.5.0",
      "_view_name": "HTMLView",
      "description": "",
      "description_tooltip": null,
      "layout": "IPY_MODEL_096fa4350a4f4e638716991ceb57b5c6",
      "placeholder": "​",
      "style": "IPY_MODEL_e631a768b6c1496798122586378c83ca",
      "value": " 436k/436k [00:00&lt;00:00, 972kB/s]"
     }
    },
    "81fc420f7bc947ac87b5c30768429e60": {
     "model_module": "@jupyter-widgets/controls",
     "model_name": "FloatProgressModel",
     "state": {
      "_dom_classes": [],
      "_model_module": "@jupyter-widgets/controls",
      "_model_module_version": "1.5.0",
      "_model_name": "FloatProgressModel",
      "_view_count": null,
      "_view_module": "@jupyter-widgets/controls",
      "_view_module_version": "1.5.0",
      "_view_name": "ProgressView",
      "bar_style": "success",
      "description": "Downloading: 100%",
      "description_tooltip": null,
      "layout": "IPY_MODEL_c37be38b10464ee6a5b944e2e6c3b8f8",
      "max": 213450,
      "min": 0,
      "orientation": "horizontal",
      "style": "IPY_MODEL_918aa4e5e4b5499886e8f4204525b91f",
      "value": 213450
     }
    },
    "8b27f6106dab49429c2964be9bba6beb": {
     "model_module": "@jupyter-widgets/controls",
     "model_name": "ProgressStyleModel",
     "state": {
      "_model_module": "@jupyter-widgets/controls",
      "_model_module_version": "1.5.0",
      "_model_name": "ProgressStyleModel",
      "_view_count": null,
      "_view_module": "@jupyter-widgets/base",
      "_view_module_version": "1.2.0",
      "_view_name": "StyleView",
      "bar_color": null,
      "description_width": "initial"
     }
    },
    "918aa4e5e4b5499886e8f4204525b91f": {
     "model_module": "@jupyter-widgets/controls",
     "model_name": "ProgressStyleModel",
     "state": {
      "_model_module": "@jupyter-widgets/controls",
      "_model_module_version": "1.5.0",
      "_model_name": "ProgressStyleModel",
      "_view_count": null,
      "_view_module": "@jupyter-widgets/base",
      "_view_module_version": "1.2.0",
      "_view_name": "StyleView",
      "bar_color": null,
      "description_width": "initial"
     }
    },
    "c37be38b10464ee6a5b944e2e6c3b8f8": {
     "model_module": "@jupyter-widgets/base",
     "model_name": "LayoutModel",
     "state": {
      "_model_module": "@jupyter-widgets/base",
      "_model_module_version": "1.2.0",
      "_model_name": "LayoutModel",
      "_view_count": null,
      "_view_module": "@jupyter-widgets/base",
      "_view_module_version": "1.2.0",
      "_view_name": "LayoutView",
      "align_content": null,
      "align_items": null,
      "align_self": null,
      "border": null,
      "bottom": null,
      "display": null,
      "flex": null,
      "flex_flow": null,
      "grid_area": null,
      "grid_auto_columns": null,
      "grid_auto_flow": null,
      "grid_auto_rows": null,
      "grid_column": null,
      "grid_gap": null,
      "grid_row": null,
      "grid_template_areas": null,
      "grid_template_columns": null,
      "grid_template_rows": null,
      "height": null,
      "justify_content": null,
      "justify_items": null,
      "left": null,
      "margin": null,
      "max_height": null,
      "max_width": null,
      "min_height": null,
      "min_width": null,
      "object_fit": null,
      "object_position": null,
      "order": null,
      "overflow": null,
      "overflow_x": null,
      "overflow_y": null,
      "padding": null,
      "right": null,
      "top": null,
      "visibility": null,
      "width": null
     }
    },
    "c66973f6a1494d76ab91b5a3e483f841": {
     "model_module": "@jupyter-widgets/controls",
     "model_name": "HBoxModel",
     "state": {
      "_dom_classes": [],
      "_model_module": "@jupyter-widgets/controls",
      "_model_module_version": "1.5.0",
      "_model_name": "HBoxModel",
      "_view_count": null,
      "_view_module": "@jupyter-widgets/controls",
      "_view_module_version": "1.5.0",
      "_view_name": "HBoxView",
      "box_style": "",
      "children": [
       "IPY_MODEL_115de47eddd24699a54027c2ce486fa1",
       "IPY_MODEL_7da1971216144541ad4326e0e03dd346"
      ],
      "layout": "IPY_MODEL_e3274e382426471aa742f557d9bfe7df"
     }
    },
    "ce8277402d0e4e39835f330ecc3ffb18": {
     "model_module": "@jupyter-widgets/base",
     "model_name": "LayoutModel",
     "state": {
      "_model_module": "@jupyter-widgets/base",
      "_model_module_version": "1.2.0",
      "_model_name": "LayoutModel",
      "_view_count": null,
      "_view_module": "@jupyter-widgets/base",
      "_view_module_version": "1.2.0",
      "_view_name": "LayoutView",
      "align_content": null,
      "align_items": null,
      "align_self": null,
      "border": null,
      "bottom": null,
      "display": null,
      "flex": null,
      "flex_flow": null,
      "grid_area": null,
      "grid_auto_columns": null,
      "grid_auto_flow": null,
      "grid_auto_rows": null,
      "grid_column": null,
      "grid_gap": null,
      "grid_row": null,
      "grid_template_areas": null,
      "grid_template_columns": null,
      "grid_template_rows": null,
      "height": null,
      "justify_content": null,
      "justify_items": null,
      "left": null,
      "margin": null,
      "max_height": null,
      "max_width": null,
      "min_height": null,
      "min_width": null,
      "object_fit": null,
      "object_position": null,
      "order": null,
      "overflow": null,
      "overflow_x": null,
      "overflow_y": null,
      "padding": null,
      "right": null,
      "top": null,
      "visibility": null,
      "width": null
     }
    },
    "e3274e382426471aa742f557d9bfe7df": {
     "model_module": "@jupyter-widgets/base",
     "model_name": "LayoutModel",
     "state": {
      "_model_module": "@jupyter-widgets/base",
      "_model_module_version": "1.2.0",
      "_model_name": "LayoutModel",
      "_view_count": null,
      "_view_module": "@jupyter-widgets/base",
      "_view_module_version": "1.2.0",
      "_view_name": "LayoutView",
      "align_content": null,
      "align_items": null,
      "align_self": null,
      "border": null,
      "bottom": null,
      "display": null,
      "flex": null,
      "flex_flow": null,
      "grid_area": null,
      "grid_auto_columns": null,
      "grid_auto_flow": null,
      "grid_auto_rows": null,
      "grid_column": null,
      "grid_gap": null,
      "grid_row": null,
      "grid_template_areas": null,
      "grid_template_columns": null,
      "grid_template_rows": null,
      "height": null,
      "justify_content": null,
      "justify_items": null,
      "left": null,
      "margin": null,
      "max_height": null,
      "max_width": null,
      "min_height": null,
      "min_width": null,
      "object_fit": null,
      "object_position": null,
      "order": null,
      "overflow": null,
      "overflow_x": null,
      "overflow_y": null,
      "padding": null,
      "right": null,
      "top": null,
      "visibility": null,
      "width": null
     }
    },
    "e4554b8c60af483581248eba6f6574a9": {
     "model_module": "@jupyter-widgets/base",
     "model_name": "LayoutModel",
     "state": {
      "_model_module": "@jupyter-widgets/base",
      "_model_module_version": "1.2.0",
      "_model_name": "LayoutModel",
      "_view_count": null,
      "_view_module": "@jupyter-widgets/base",
      "_view_module_version": "1.2.0",
      "_view_name": "LayoutView",
      "align_content": null,
      "align_items": null,
      "align_self": null,
      "border": null,
      "bottom": null,
      "display": null,
      "flex": null,
      "flex_flow": null,
      "grid_area": null,
      "grid_auto_columns": null,
      "grid_auto_flow": null,
      "grid_auto_rows": null,
      "grid_column": null,
      "grid_gap": null,
      "grid_row": null,
      "grid_template_areas": null,
      "grid_template_columns": null,
      "grid_template_rows": null,
      "height": null,
      "justify_content": null,
      "justify_items": null,
      "left": null,
      "margin": null,
      "max_height": null,
      "max_width": null,
      "min_height": null,
      "min_width": null,
      "object_fit": null,
      "object_position": null,
      "order": null,
      "overflow": null,
      "overflow_x": null,
      "overflow_y": null,
      "padding": null,
      "right": null,
      "top": null,
      "visibility": null,
      "width": null
     }
    },
    "e631a768b6c1496798122586378c83ca": {
     "model_module": "@jupyter-widgets/controls",
     "model_name": "DescriptionStyleModel",
     "state": {
      "_model_module": "@jupyter-widgets/controls",
      "_model_module_version": "1.5.0",
      "_model_name": "DescriptionStyleModel",
      "_view_count": null,
      "_view_module": "@jupyter-widgets/base",
      "_view_module_version": "1.2.0",
      "_view_name": "StyleView",
      "description_width": ""
     }
    }
   }
  }
 },
 "nbformat": 4,
 "nbformat_minor": 1
}
